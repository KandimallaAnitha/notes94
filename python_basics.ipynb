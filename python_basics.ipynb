{
  "nbformat": 4,
  "nbformat_minor": 0,
  "metadata": {
    "colab": {
      "provenance": [],
      "authorship_tag": "ABX9TyNyx0NANmYpo9u809iOfy1J",
      "include_colab_link": true
    },
    "kernelspec": {
      "name": "python3",
      "display_name": "Python 3"
    },
    "language_info": {
      "name": "python"
    }
  },
  "cells": [
    {
      "cell_type": "markdown",
      "metadata": {
        "id": "view-in-github",
        "colab_type": "text"
      },
      "source": [
        "<a href=\"https://colab.research.google.com/github/KandimallaAnitha/notes94/blob/main/python_basics.ipynb\" target=\"_parent\"><img src=\"https://colab.research.google.com/assets/colab-badge.svg\" alt=\"Open In Colab\"/></a>"
      ]
    },
    {
      "cell_type": "markdown",
      "source": [
        "##PYTHON BASICS"
      ],
      "metadata": {
        "id": "TutCY2XfEEsQ"
      }
    },
    {
      "cell_type": "markdown",
      "source": [
        "##PRINTING STATEMENT"
      ],
      "metadata": {
        "id": "cvPPMbyHD3YN"
      }
    },
    {
      "cell_type": "code",
      "source": [
        "print(\"hello world\")"
      ],
      "metadata": {
        "colab": {
          "base_uri": "https://localhost:8080/"
        },
        "id": "KHXG-BIU_RQu",
        "outputId": "65aabf6a-a80b-4812-d6f0-a1330b6a7f2a"
      },
      "execution_count": null,
      "outputs": [
        {
          "output_type": "stream",
          "name": "stdout",
          "text": [
            "hello world\n"
          ]
        }
      ]
    },
    {
      "cell_type": "code",
      "execution_count": null,
      "metadata": {
        "colab": {
          "base_uri": "https://localhost:8080/"
        },
        "id": "CJ3_0o8V_LLY",
        "outputId": "957ddf63-de9f-4429-8ccd-d9655c567310"
      },
      "outputs": [
        {
          "output_type": "stream",
          "name": "stdout",
          "text": [
            "anitha\n"
          ]
        }
      ],
      "source": [
        "print(\"anitha\")"
      ]
    },
    {
      "cell_type": "code",
      "source": [
        "print(\"kalluru\",\"kurichedu\",\"prakasam\",sep=\"**\")"
      ],
      "metadata": {
        "colab": {
          "base_uri": "https://localhost:8080/"
        },
        "id": "b4kgLzGd_QWF",
        "outputId": "caba6a33-ec5e-4e4d-f89c-f82933d81e45"
      },
      "execution_count": 1,
      "outputs": [
        {
          "output_type": "stream",
          "name": "stdout",
          "text": [
            "kalluru**kurichedu**prakasam\n"
          ]
        }
      ]
    },
    {
      "cell_type": "code",
      "source": [
        "print(2*10)"
      ],
      "metadata": {
        "colab": {
          "base_uri": "https://localhost:8080/"
        },
        "id": "k956YG8PAM2k",
        "outputId": "09670f82-528b-47bf-85a8-4e5942ea70b7"
      },
      "execution_count": null,
      "outputs": [
        {
          "output_type": "stream",
          "name": "stdout",
          "text": [
            "20\n"
          ]
        }
      ]
    },
    {
      "cell_type": "code",
      "source": [
        "print(6,2,\"banana\")"
      ],
      "metadata": {
        "colab": {
          "base_uri": "https://localhost:8080/"
        },
        "id": "X4x4uofsAXNA",
        "outputId": "744eed70-166a-498d-87fc-bb1cda610892"
      },
      "execution_count": null,
      "outputs": [
        {
          "output_type": "stream",
          "name": "stdout",
          "text": [
            "6 2 banana\n"
          ]
        }
      ]
    },
    {
      "cell_type": "code",
      "source": [
        "print(\"anitha\"+\"anitha\")"
      ],
      "metadata": {
        "id": "qDKcpTRzBNjT",
        "outputId": "a5115661-86e8-4af7-e5dc-bf6e4e540d0e",
        "colab": {
          "base_uri": "https://localhost:8080/"
        }
      },
      "execution_count": null,
      "outputs": [
        {
          "output_type": "stream",
          "name": "stdout",
          "text": [
            "anithaanitha\n"
          ]
        }
      ]
    },
    {
      "cell_type": "markdown",
      "source": [
        "##VARIABLES"
      ],
      "metadata": {
        "id": "yiHmekZsBgyP"
      }
    },
    {
      "cell_type": "code",
      "source": [
        "x=10"
      ],
      "metadata": {
        "id": "NysLElxMBkza"
      },
      "execution_count": null,
      "outputs": []
    },
    {
      "cell_type": "code",
      "source": [
        "x\n",
        "#we need not to give all time print#"
      ],
      "metadata": {
        "id": "tuj6TFD7Bslp",
        "outputId": "1fc786ca-dc90-4069-88f8-7c02e87fa6d9",
        "colab": {
          "base_uri": "https://localhost:8080/"
        }
      },
      "execution_count": null,
      "outputs": [
        {
          "output_type": "execute_result",
          "data": {
            "text/plain": [
              "10"
            ]
          },
          "metadata": {},
          "execution_count": 14
        }
      ]
    },
    {
      "cell_type": "code",
      "source": [
        "print(x)"
      ],
      "metadata": {
        "id": "Rkeg-7_cBx4a",
        "outputId": "4605bdc4-6637-4f6e-a738-ca2547417b7b",
        "colab": {
          "base_uri": "https://localhost:8080/"
        }
      },
      "execution_count": null,
      "outputs": [
        {
          "output_type": "stream",
          "name": "stdout",
          "text": [
            "10\n"
          ]
        }
      ]
    },
    {
      "cell_type": "markdown",
      "source": [
        "##ADDING VALUES WITH VARIABLES"
      ],
      "metadata": {
        "id": "8H5YzmWiCGLG"
      }
    },
    {
      "cell_type": "code",
      "source": [
        "X=10\n",
        "S=X+94\n",
        "S"
      ],
      "metadata": {
        "id": "TmNgPlFNCOQ7",
        "outputId": "b06960d6-664e-4763-b33d-12b4234bb9c1",
        "colab": {
          "base_uri": "https://localhost:8080/"
        }
      },
      "execution_count": null,
      "outputs": [
        {
          "output_type": "execute_result",
          "data": {
            "text/plain": [
              "104"
            ]
          },
          "metadata": {},
          "execution_count": 28
        }
      ]
    },
    {
      "cell_type": "markdown",
      "source": [
        "##SUBTRACTING"
      ],
      "metadata": {
        "id": "jDUIf23gCZ8U"
      }
    },
    {
      "cell_type": "code",
      "source": [
        "Y=10\n",
        "C=Y-2\n",
        "C"
      ],
      "metadata": {
        "id": "BBCrPLj2Ce4I",
        "outputId": "b1fd0e64-3e80-423d-d008-3a4a780f5ed9",
        "colab": {
          "base_uri": "https://localhost:8080/"
        }
      },
      "execution_count": null,
      "outputs": [
        {
          "output_type": "execute_result",
          "data": {
            "text/plain": [
              "8"
            ]
          },
          "metadata": {},
          "execution_count": 27
        }
      ]
    },
    {
      "cell_type": "markdown",
      "source": [
        "##MULTIPLICATION"
      ],
      "metadata": {
        "id": "dba39B-ACoXv"
      }
    },
    {
      "cell_type": "code",
      "source": [
        "M=5\n",
        "M1=5*M\n",
        "M1"
      ],
      "metadata": {
        "id": "MBGDsGonCr6A",
        "outputId": "4437189b-7dd5-47a0-cc1c-c5527e6865a1",
        "colab": {
          "base_uri": "https://localhost:8080/"
        }
      },
      "execution_count": null,
      "outputs": [
        {
          "output_type": "execute_result",
          "data": {
            "text/plain": [
              "25"
            ]
          },
          "metadata": {},
          "execution_count": 26
        }
      ]
    },
    {
      "cell_type": "markdown",
      "source": [
        "##DIVISION"
      ],
      "metadata": {
        "id": "0MNcc9o3DH8S"
      }
    },
    {
      "cell_type": "code",
      "source": [
        "D=10\n",
        "D1=100/D\n",
        "print(D1)"
      ],
      "metadata": {
        "id": "sJDOVXNFDKYJ",
        "outputId": "6f145027-df9d-44a5-98ba-d112ff294500",
        "colab": {
          "base_uri": "https://localhost:8080/"
        }
      },
      "execution_count": null,
      "outputs": [
        {
          "output_type": "stream",
          "name": "stdout",
          "text": [
            "10.0\n"
          ]
        }
      ]
    },
    {
      "cell_type": "markdown",
      "source": [
        "##ALL"
      ],
      "metadata": {
        "id": "LGLazeGFD8BN"
      }
    },
    {
      "cell_type": "code",
      "source": [
        "A=10\n",
        "B=50\n",
        "print(A+B)\n",
        "print(A-B)\n",
        "print(A*B)\n",
        "print(A/B)\n",
        "print(A%B)"
      ],
      "metadata": {
        "id": "diHwCoDrD9nb",
        "outputId": "194801d2-90a5-4081-adad-42ee9c74893e",
        "colab": {
          "base_uri": "https://localhost:8080/"
        }
      },
      "execution_count": null,
      "outputs": [
        {
          "output_type": "stream",
          "name": "stdout",
          "text": [
            "60\n",
            "-40\n",
            "500\n",
            "0.2\n",
            "10\n"
          ]
        }
      ]
    },
    {
      "cell_type": "code",
      "source": [
        "x,y,z=10,20,30"
      ],
      "metadata": {
        "id": "LKMV4X2DFqXK"
      },
      "execution_count": 4,
      "outputs": []
    },
    {
      "cell_type": "code",
      "source": [
        "x"
      ],
      "metadata": {
        "colab": {
          "base_uri": "https://localhost:8080/"
        },
        "id": "Y3y4bsOyFqT0",
        "outputId": "bc2b00f0-18cb-4da4-f8ab-bbe2664e4be2"
      },
      "execution_count": 3,
      "outputs": [
        {
          "output_type": "execute_result",
          "data": {
            "text/plain": [
              "10"
            ]
          },
          "metadata": {},
          "execution_count": 3
        }
      ]
    },
    {
      "cell_type": "code",
      "source": [
        "y"
      ],
      "metadata": {
        "colab": {
          "base_uri": "https://localhost:8080/"
        },
        "id": "vQOuADhUGIsy",
        "outputId": "76b72f56-02d5-424b-d50a-bb9f56d391d8"
      },
      "execution_count": 5,
      "outputs": [
        {
          "output_type": "execute_result",
          "data": {
            "text/plain": [
              "20"
            ]
          },
          "metadata": {},
          "execution_count": 5
        }
      ]
    },
    {
      "cell_type": "code",
      "source": [
        "z"
      ],
      "metadata": {
        "colab": {
          "base_uri": "https://localhost:8080/"
        },
        "id": "nJqvsJYLGLBn",
        "outputId": "90419b6c-7609-4aa6-dcf9-b907f5f5d42a"
      },
      "execution_count": 6,
      "outputs": [
        {
          "output_type": "execute_result",
          "data": {
            "text/plain": [
              "30"
            ]
          },
          "metadata": {},
          "execution_count": 6
        }
      ]
    },
    {
      "cell_type": "markdown",
      "source": [
        "##DYNAMIC TYPING"
      ],
      "metadata": {
        "id": "pxU3n7MzEbto"
      }
    },
    {
      "cell_type": "code",
      "source": [
        "A=100.1\n",
        "print(A)\n",
        "print(type(A))"
      ],
      "metadata": {
        "id": "yBxx34QhEfCJ",
        "outputId": "62c4a965-b938-480e-c7a0-ff647af23d86",
        "colab": {
          "base_uri": "https://localhost:8080/"
        }
      },
      "execution_count": null,
      "outputs": [
        {
          "output_type": "stream",
          "name": "stdout",
          "text": [
            "100.1\n",
            "<class 'float'>\n"
          ]
        }
      ]
    },
    {
      "cell_type": "markdown",
      "source": [
        "##OPERATOR"
      ],
      "metadata": {
        "id": "9jPtNej2Fk3R"
      }
    },
    {
      "cell_type": "code",
      "source": [
        "a=10\n",
        "b=20\n",
        "print(a+b)\n",
        "print(a-b)\n",
        "print(a*b)\n",
        "print(a%b) #remainder\n",
        "print(a//b) #quotient\n",
        "print(a**b)"
      ],
      "metadata": {
        "id": "nOSYfIQGFrmJ",
        "outputId": "869bf91b-f2bd-4609-d8eb-5bb59ca35faa",
        "colab": {
          "base_uri": "https://localhost:8080/"
        }
      },
      "execution_count": null,
      "outputs": [
        {
          "output_type": "stream",
          "name": "stdout",
          "text": [
            "30\n",
            "-10\n",
            "200\n",
            "10\n",
            "0\n",
            "100000000000000000000\n"
          ]
        }
      ]
    },
    {
      "cell_type": "markdown",
      "source": [
        "##RELATIONAL OPERATORS"
      ],
      "metadata": {
        "id": "JfdhfhdyGozw"
      }
    },
    {
      "cell_type": "code",
      "source": [
        "a=20\n",
        "b=30\n",
        "print(a>b)\n",
        "print(a<b)\n",
        "print(a!=b)\n",
        "print(a==b)"
      ],
      "metadata": {
        "id": "xs6imOtfGvn_",
        "outputId": "525f6fdc-c441-45a3-ec35-547abf4789df",
        "colab": {
          "base_uri": "https://localhost:8080/"
        }
      },
      "execution_count": null,
      "outputs": [
        {
          "output_type": "stream",
          "name": "stdout",
          "text": [
            "False\n",
            "True\n",
            "True\n",
            "False\n"
          ]
        }
      ]
    },
    {
      "cell_type": "markdown",
      "source": [],
      "metadata": {
        "id": "ueay1IFXD1RF"
      }
    },
    {
      "cell_type": "markdown",
      "source": [
        "##LIST"
      ],
      "metadata": {
        "id": "MXAj08q1Hd6Y"
      }
    },
    {
      "cell_type": "code",
      "source": [
        "list=[\"anu\",94.5,10,12,\"france\"] #list is a collection of different values which are diffrent data types\n",
        "list                             #list is a mutable"
      ],
      "metadata": {
        "id": "Z9rKeFIoHhf_",
        "outputId": "8d0522c5-b296-42c8-a363-a14c0fd79a72",
        "colab": {
          "base_uri": "https://localhost:8080/"
        }
      },
      "execution_count": 12,
      "outputs": [
        {
          "output_type": "execute_result",
          "data": {
            "text/plain": [
              "['anu', 94.5, 10, 12, 'france']"
            ]
          },
          "metadata": {},
          "execution_count": 12
        }
      ]
    },
    {
      "cell_type": "code",
      "source": [
        "#length of list\n",
        "#len(list)\n",
        "list[1]"
      ],
      "metadata": {
        "colab": {
          "base_uri": "https://localhost:8080/"
        },
        "id": "5VC83LWCHEB4",
        "outputId": "0eff6e27-c496-4a50-9683-305e5127d951"
      },
      "execution_count": 13,
      "outputs": [
        {
          "output_type": "execute_result",
          "data": {
            "text/plain": [
              "94.5"
            ]
          },
          "metadata": {},
          "execution_count": 13
        }
      ]
    },
    {
      "cell_type": "code",
      "source": [
        "len(list)"
      ],
      "metadata": {
        "colab": {
          "base_uri": "https://localhost:8080/"
        },
        "id": "IPQwMEEOICQ-",
        "outputId": "9ee2bc7f-2976-47a9-ea16-835ae23ecbff"
      },
      "execution_count": 14,
      "outputs": [
        {
          "output_type": "execute_result",
          "data": {
            "text/plain": [
              "5"
            ]
          },
          "metadata": {},
          "execution_count": 14
        }
      ]
    },
    {
      "cell_type": "code",
      "source": [
        "#list is mutable\n",
        "#accesing the elements with index\n",
        "list[1]=\"anitha\"\n",
        "list"
      ],
      "metadata": {
        "colab": {
          "base_uri": "https://localhost:8080/"
        },
        "id": "j_fKmZKvIFbE",
        "outputId": "30e278c7-0ca2-4993-8381-6efa5789cd21"
      },
      "execution_count": 16,
      "outputs": [
        {
          "output_type": "execute_result",
          "data": {
            "text/plain": [
              "['anu', 'anitha', 10, 12, 'france']"
            ]
          },
          "metadata": {},
          "execution_count": 16
        }
      ]
    },
    {
      "cell_type": "code",
      "source": [
        "#slicing\n",
        "list[0:3]"
      ],
      "metadata": {
        "colab": {
          "base_uri": "https://localhost:8080/"
        },
        "id": "A9_bmG5VIRIc",
        "outputId": "666e9548-7b0e-4ae3-964c-ed1ecd05d6ad"
      },
      "execution_count": 17,
      "outputs": [
        {
          "output_type": "execute_result",
          "data": {
            "text/plain": [
              "['anu', 'anitha', 10]"
            ]
          },
          "metadata": {},
          "execution_count": 17
        }
      ]
    },
    {
      "cell_type": "code",
      "source": [
        "list[:3]"
      ],
      "metadata": {
        "colab": {
          "base_uri": "https://localhost:8080/"
        },
        "id": "Vz5DUpF2IegF",
        "outputId": "ebf8cc7a-ba09-4666-96db-f654b1b37917"
      },
      "execution_count": 18,
      "outputs": [
        {
          "output_type": "execute_result",
          "data": {
            "text/plain": [
              "['anu', 'anitha', 10]"
            ]
          },
          "metadata": {},
          "execution_count": 18
        }
      ]
    },
    {
      "cell_type": "code",
      "source": [
        "#reversing list\n",
        "list[::-1]\n"
      ],
      "metadata": {
        "colab": {
          "base_uri": "https://localhost:8080/"
        },
        "id": "2lfTv3YCIijc",
        "outputId": "805d94db-9768-498b-c1f5-27ba45bcbd2b"
      },
      "execution_count": 20,
      "outputs": [
        {
          "output_type": "execute_result",
          "data": {
            "text/plain": [
              "['france', 12, 10, 'anitha', 'anu']"
            ]
          },
          "metadata": {},
          "execution_count": 20
        }
      ]
    },
    {
      "cell_type": "markdown",
      "source": [
        "##TUPLE"
      ],
      "metadata": {
        "id": "E_rb0CFhIyDU"
      }
    },
    {
      "cell_type": "code",
      "source": [
        "tup=(\"anitha\",\"kalluru\",594,\"kandimalla\")\n",
        "tup"
      ],
      "metadata": {
        "colab": {
          "base_uri": "https://localhost:8080/"
        },
        "id": "yaCBWEsiI1mz",
        "outputId": "8f10e4ba-364b-48a5-d01f-57725cbb43dd"
      },
      "execution_count": 21,
      "outputs": [
        {
          "output_type": "execute_result",
          "data": {
            "text/plain": [
              "('anitha', 'kalluru', 594, 'kandimalla')"
            ]
          },
          "metadata": {},
          "execution_count": 21
        }
      ]
    },
    {
      "cell_type": "code",
      "source": [
        "#accesing elements from the list\n",
        "tup[1]"
      ],
      "metadata": {
        "colab": {
          "base_uri": "https://localhost:8080/",
          "height": 35
        },
        "id": "V3lFwaYmJLLw",
        "outputId": "10fe42f9-3227-45c0-d8ba-cdb3484776b0"
      },
      "execution_count": 22,
      "outputs": [
        {
          "output_type": "execute_result",
          "data": {
            "text/plain": [
              "'kalluru'"
            ],
            "application/vnd.google.colaboratory.intrinsic+json": {
              "type": "string"
            }
          },
          "metadata": {},
          "execution_count": 22
        }
      ]
    },
    {
      "cell_type": "code",
      "source": [
        "#indexing\n",
        "print(tup[1:])"
      ],
      "metadata": {
        "colab": {
          "base_uri": "https://localhost:8080/"
        },
        "id": "OfOr9dpYJTZp",
        "outputId": "1065b5e8-94cd-4091-d929-f7027d236f1a"
      },
      "execution_count": 23,
      "outputs": [
        {
          "output_type": "stream",
          "name": "stdout",
          "text": [
            "('kalluru', 594, 'kandimalla')\n"
          ]
        }
      ]
    },
    {
      "cell_type": "code",
      "source": [
        "#tuple is imutable we can not update tup after initializing"
      ],
      "metadata": {
        "id": "q7g1rqcBJs_4"
      },
      "execution_count": null,
      "outputs": []
    },
    {
      "cell_type": "markdown",
      "source": [
        "#SET"
      ],
      "metadata": {
        "id": "rIs0BpTNJ5x-"
      }
    },
    {
      "cell_type": "code",
      "source": [
        "a = {1,2,3,4,5,6,7}\n",
        "a"
      ],
      "metadata": {
        "colab": {
          "base_uri": "https://localhost:8080/"
        },
        "id": "1WlJ5OTgJ74j",
        "outputId": "85c6484c-7ecb-4098-f9af-851034f675c7"
      },
      "execution_count": 24,
      "outputs": [
        {
          "output_type": "execute_result",
          "data": {
            "text/plain": [
              "{1, 2, 3, 4, 5, 6, 7}"
            ]
          },
          "metadata": {},
          "execution_count": 24
        }
      ]
    },
    {
      "cell_type": "code",
      "source": [
        "a.add(7)\n",
        "a"
      ],
      "metadata": {
        "colab": {
          "base_uri": "https://localhost:8080/"
        },
        "id": "IYPGKqgrKKwG",
        "outputId": "f29cdd7e-f12d-4aaa-a4e3-7be4e8ea514d"
      },
      "execution_count": 26,
      "outputs": [
        {
          "output_type": "execute_result",
          "data": {
            "text/plain": [
              "{1, 2, 3, 4, 5, 6, 7}"
            ]
          },
          "metadata": {},
          "execution_count": 26
        }
      ]
    },
    {
      "cell_type": "code",
      "source": [
        "#set is inordered\n",
        "s = {2,3,7,8,10,23,67,78,1,5}\n",
        "s"
      ],
      "metadata": {
        "colab": {
          "base_uri": "https://localhost:8080/"
        },
        "id": "30SRqtwdKQgY",
        "outputId": "c13387a8-a4a3-4585-f02d-0628ecfe55f9"
      },
      "execution_count": 28,
      "outputs": [
        {
          "output_type": "execute_result",
          "data": {
            "text/plain": [
              "{1, 2, 3, 5, 7, 8, 10, 23, 67, 78}"
            ]
          },
          "metadata": {},
          "execution_count": 28
        }
      ]
    },
    {
      "cell_type": "markdown",
      "source": [
        "#DICTIONARY"
      ],
      "metadata": {
        "id": "fb22hv81KrOl"
      }
    },
    {
      "cell_type": "code",
      "source": [
        "d = {'name':'anitha','age':20}\n",
        "d"
      ],
      "metadata": {
        "colab": {
          "base_uri": "https://localhost:8080/"
        },
        "id": "6HWIaSVyKzYk",
        "outputId": "cba8c07d-f56e-4bf6-fea9-bcb5a71c9eee"
      },
      "execution_count": 30,
      "outputs": [
        {
          "output_type": "execute_result",
          "data": {
            "text/plain": [
              "{'name': 'anitha', 'age': 20}"
            ]
          },
          "metadata": {},
          "execution_count": 30
        }
      ]
    },
    {
      "cell_type": "code",
      "source": [
        "d.keys()"
      ],
      "metadata": {
        "colab": {
          "base_uri": "https://localhost:8080/"
        },
        "id": "7CVwVAIdLM43",
        "outputId": "815dd606-5932-43c2-d8ca-a51231abad57"
      },
      "execution_count": 31,
      "outputs": [
        {
          "output_type": "execute_result",
          "data": {
            "text/plain": [
              "dict_keys(['name', 'age'])"
            ]
          },
          "metadata": {},
          "execution_count": 31
        }
      ]
    },
    {
      "cell_type": "code",
      "source": [
        "d.values()"
      ],
      "metadata": {
        "colab": {
          "base_uri": "https://localhost:8080/"
        },
        "id": "in5s8xvwLPDW",
        "outputId": "b49f595a-1da7-40cc-9aa2-a686d4c56e21"
      },
      "execution_count": 32,
      "outputs": [
        {
          "output_type": "execute_result",
          "data": {
            "text/plain": [
              "dict_values(['anitha', 20])"
            ]
          },
          "metadata": {},
          "execution_count": 32
        }
      ]
    },
    {
      "cell_type": "code",
      "source": [
        "#update the dictionary\n",
        "d['age']=19\n",
        "d"
      ],
      "metadata": {
        "colab": {
          "base_uri": "https://localhost:8080/"
        },
        "id": "PMo2VwBfLULr",
        "outputId": "a794488a-6989-4691-dd1b-4a9918703563"
      },
      "execution_count": 33,
      "outputs": [
        {
          "output_type": "execute_result",
          "data": {
            "text/plain": [
              "{'name': 'anitha', 'age': 19}"
            ]
          },
          "metadata": {},
          "execution_count": 33
        }
      ]
    },
    {
      "cell_type": "code",
      "source": [
        "d.items()"
      ],
      "metadata": {
        "colab": {
          "base_uri": "https://localhost:8080/"
        },
        "id": "IEwbdlWGLeG3",
        "outputId": "26f93e9d-7640-455c-eac8-cd601a57693e"
      },
      "execution_count": 34,
      "outputs": [
        {
          "output_type": "execute_result",
          "data": {
            "text/plain": [
              "dict_items([('name', 'anitha'), ('age', 19)])"
            ]
          },
          "metadata": {},
          "execution_count": 34
        }
      ]
    },
    {
      "cell_type": "markdown",
      "source": [
        "#STATEMENTS"
      ],
      "metadata": {
        "id": "Ush7Vi4rL0Ry"
      }
    },
    {
      "cell_type": "code",
      "source": [
        "#if\n",
        "x = int(input(\"enter a number\"))\n",
        "if x==100:\n",
        "  print(\"this is my lucky number\")"
      ],
      "metadata": {
        "colab": {
          "base_uri": "https://localhost:8080/"
        },
        "id": "LHkhte09L4BO",
        "outputId": "b2264047-21cc-486d-d6d0-181deab997e9"
      },
      "execution_count": 36,
      "outputs": [
        {
          "name": "stdout",
          "output_type": "stream",
          "text": [
            "enter a number200\n"
          ]
        }
      ]
    },
    {
      "cell_type": "code",
      "source": [
        "#if else\n",
        "#if\n",
        "x = int(input(\"enter a number\"))\n",
        "if x==100:\n",
        "  print(\"this is my lucky number\")\n",
        "else:\n",
        "  print(\"this is not my lucky number\")\n"
      ],
      "metadata": {
        "colab": {
          "base_uri": "https://localhost:8080/"
        },
        "id": "4-Ywp5ZbMans",
        "outputId": "891a622a-a49f-47a1-d1d2-f1767ed9065d"
      },
      "execution_count": 37,
      "outputs": [
        {
          "output_type": "stream",
          "name": "stdout",
          "text": [
            "enter a number200\n",
            "this is not my lucky number\n"
          ]
        }
      ]
    },
    {
      "cell_type": "code",
      "source": [
        "#elif\n",
        "x = int(input(\"enter a number\"))\n",
        "y = int(input(\"enter a number\"))\n",
        "if(x<y):\n",
        "  print(\"y is greater\")\n",
        "elif(x==y):\n",
        "  print(\"both are same\")\n",
        "else:\n",
        "  print(\"x is greater\")"
      ],
      "metadata": {
        "colab": {
          "base_uri": "https://localhost:8080/"
        },
        "id": "buhpiGMbM2GP",
        "outputId": "2c107125-ca36-40c4-d315-0167ed134207"
      },
      "execution_count": 38,
      "outputs": [
        {
          "output_type": "stream",
          "name": "stdout",
          "text": [
            "enter a number100\n",
            "enter a number200\n",
            "y is greater\n"
          ]
        }
      ]
    },
    {
      "cell_type": "markdown",
      "source": [
        "##LOOP"
      ],
      "metadata": {
        "id": "g4oK0SYpN2j0"
      }
    },
    {
      "cell_type": "code",
      "source": [
        "list = [\"anu\",\"anitha\",\"kandimalla\"]\n",
        "for i in list:\n",
        "  print(i)"
      ],
      "metadata": {
        "colab": {
          "base_uri": "https://localhost:8080/"
        },
        "id": "VufaR9_aN5-E",
        "outputId": "c0c93450-945c-487e-b749-e1a958cb4342"
      },
      "execution_count": 39,
      "outputs": [
        {
          "output_type": "stream",
          "name": "stdout",
          "text": [
            "anu\n",
            "anitha\n",
            "kandimalla\n"
          ]
        }
      ]
    },
    {
      "cell_type": "code",
      "source": [
        "#print number upto 15\n",
        "for i in range(1,16):\n",
        "  print(i)"
      ],
      "metadata": {
        "colab": {
          "base_uri": "https://localhost:8080/"
        },
        "id": "uk0aP9g3OWO6",
        "outputId": "69529baa-c10d-43d9-cd6d-3d448fda97bf"
      },
      "execution_count": 40,
      "outputs": [
        {
          "output_type": "stream",
          "name": "stdout",
          "text": [
            "1\n",
            "2\n",
            "3\n",
            "4\n",
            "5\n",
            "6\n",
            "7\n",
            "8\n",
            "9\n",
            "10\n",
            "11\n",
            "12\n",
            "13\n",
            "14\n",
            "15\n"
          ]
        }
      ]
    },
    {
      "cell_type": "code",
      "source": [
        "while():\n",
        "  if (i<16):\n",
        "    print(i)"
      ],
      "metadata": {
        "id": "U_z0rXs0O8De"
      },
      "execution_count": 44,
      "outputs": []
    },
    {
      "cell_type": "markdown",
      "source": [],
      "metadata": {
        "id": "H3QW7XEDJ48_"
      }
    }
  ]
}